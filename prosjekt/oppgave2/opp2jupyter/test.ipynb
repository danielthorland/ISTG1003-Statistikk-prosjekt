{
 "cells": [
  {
   "cell_type": "code",
   "id": "initial_id",
   "metadata": {
    "collapsed": true,
    "ExecuteTime": {
     "end_time": "2024-11-01T10:36:18.320236Z",
     "start_time": "2024-11-01T10:36:18.316478Z"
    }
   },
   "source": "# hallofiewoøafjeiØ",
   "outputs": [],
   "execution_count": 1
  },
  {
   "metadata": {},
   "cell_type": "markdown",
   "source": "",
   "id": "f80a5adf6da53f9e"
  },
  {
   "metadata": {},
   "cell_type": "markdown",
   "source": "# hallo",
   "id": "e73a8541ce9f1fd0"
  },
  {
   "metadata": {},
   "cell_type": "markdown",
   "source": "",
   "id": "f7030585ac2240e4"
  }
 ],
 "metadata": {
  "kernelspec": {
   "display_name": "Python 3",
   "language": "python",
   "name": "python3"
  },
  "language_info": {
   "codemirror_mode": {
    "name": "ipython",
    "version": 2
   },
   "file_extension": ".py",
   "mimetype": "text/x-python",
   "name": "python",
   "nbconvert_exporter": "python",
   "pygments_lexer": "ipython2",
   "version": "2.7.6"
  }
 },
 "nbformat": 4,
 "nbformat_minor": 5
}
